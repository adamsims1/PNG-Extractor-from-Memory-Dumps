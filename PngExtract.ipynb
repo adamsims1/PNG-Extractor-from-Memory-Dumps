{
 "cells": [
  {
   "cell_type": "code",
   "execution_count": null,
   "metadata": {},
   "outputs": [
    {
     "name": "stdout",
     "output_type": "stream",
     "text": [

     ]
    }
   ],
   "source": [
    "import os\n",
    "import binascii\n",
    "\n",
    "# Path to the memory dump (adjust to your file)\n",
    "dump_file = r\"C:\\Users\\xxxxx\\Documents\\minidump.dmp\"\n",
    "\n",
    "# PNG header and footer (IEND chunk)\n",
    "PNG_HEADER = bytes.fromhex(\"89504E470D0A1A0A\")\n",
    "PNG_FOOTER = bytes.fromhex(\"49454E44AE426082\")\n",
    "\n",
    "def extract_pngs(file_path):\n",
    "    # Output folder for extracted PNGs\n",
    "    base_output_dir = os.path.join(os.path.dirname(file_path), \"extracted_pngs\")\n",
    "    output_dir = base_output_dir\n",
    "    counter = 1\n",
    "    while os.path.exists(output_dir):\n",
    "        output_dir = f\"{base_output_dir}_{counter}\"\n",
    "        counter += 1\n",
    "    os.makedirs(output_dir, exist_ok=True)\n",
    "\n",
    "    # File name for logging\n",
    "    filename = os.path.basename(file_path)\n",
    "    print(f\"Scanning: {filename}\")\n",
    "\n",
    "    # Read the file in binary mode\n",
    "    with open(file_path, \"rb\") as f:\n",
    "        data = f.read()\n",
    "\n",
    "        # Find all occurrences of the PNG header\n",
    "        start_positions = [i for i in range(len(data) - len(PNG_HEADER)) \n",
    "                           if data[i:i+len(PNG_HEADER)] == PNG_HEADER]\n",
    "\n",
    "        if not start_positions:\n",
    "            print(f\"  - No PNG found in {filename}\")\n",
    "            return\n",
    "\n",
    "        # For each found header, search for the footer\n",
    "        for idx, start in enumerate(start_positions):\n",
    "            end_pos = data.find(PNG_FOOTER, start)\n",
    "            if end_pos != -1:\n",
    "                end_pos += len(PNG_FOOTER)  # Footer ends after IEND\n",
    "                png_data = data[start:end_pos]\n",
    "\n",
    "                # Save the extracted PNG\n",
    "                output_file = os.path.join(output_dir, f\"extracted_{idx}.png\")\n",
    "                with open(output_file, \"wb\") as png_file:\n",
    "                    png_file.write(png_data)\n",
    "                print(f\"  - Found and saved PNG: {output_file}\")\n",
    "            else:\n",
    "                print(f\"  - PNG header found at position {start}, but missing IEND\")\n",
    "\n",
    "if __name__ == \"__main__\":\n",
    "    print(\"Starting PNG search in memory dump...\")\n",
    "    if os.path.isfile(dump_file):\n",
    "        extract_pngs(dump_file)\n",
    "    else:\n",
    "        print(f\"Error: File {dump_file} does not exist!\")\n",
    "    print(\"Scanning completed.\")"
   ]
  }
 ],
 "metadata": {
  "kernelspec": {
   "display_name": "Python 3",
   "language": "python",
   "name": "python3"
  },
  "language_info": {
   "codemirror_mode": {
    "name": "ipython",
    "version": 3
   },
   "file_extension": ".py",
   "mimetype": "text/x-python",
   "name": "python",
   "nbconvert_exporter": "python",
   "pygments_lexer": "ipython3",
   "version": "3.13.2"
  }
 },
 "nbformat": 4,
 "nbformat_minor": 2
}
